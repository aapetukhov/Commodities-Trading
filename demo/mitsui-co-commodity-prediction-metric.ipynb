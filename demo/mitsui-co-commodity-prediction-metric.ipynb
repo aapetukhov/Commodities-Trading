{
 "cells": [
  {
   "cell_type": "code",
   "execution_count": 1,
   "id": "95107e54",
   "metadata": {
    "_cell_guid": "4cf02a6f-b7e9-4360-892d-b1a50793eb12",
    "_uuid": "2a1239f3-55fc-4dbb-9d3a-e90bfffa038c",
    "collapsed": false,
    "execution": {
     "iopub.execute_input": "2025-07-16T17:02:50.182557Z",
     "iopub.status.busy": "2025-07-16T17:02:50.182233Z",
     "iopub.status.idle": "2025-07-16T17:02:52.192834Z",
     "shell.execute_reply": "2025-07-16T17:02:52.191976Z"
    },
    "jupyter": {
     "outputs_hidden": false
    },
    "papermill": {
     "duration": 2.015778,
     "end_time": "2025-07-16T17:02:52.194636",
     "exception": false,
     "start_time": "2025-07-16T17:02:50.178858",
     "status": "completed"
    },
    "tags": []
   },
   "outputs": [],
   "source": [
    "import numpy as np\n",
    "import pandas as pd\n",
    "\n",
    "\n",
    "SOLUTION_NULL_FILLER = -999999\n",
    "\n",
    "\n",
    "def rank_correlation_sharpe_ratio(merged_df: pd.DataFrame) -> float:\n",
    "    \"\"\"\n",
    "    Calculates the rank correlation between predictions and target values,\n",
    "    and returns its Sharpe ratio (mean / standard deviation).\n",
    "\n",
    "    :param merged_df: DataFrame containing prediction columns (starting with 'prediction_')\n",
    "                      and target columns (starting with 'target_')\n",
    "    :return: Sharpe ratio of the rank correlation\n",
    "    :raises ZeroDivisionError: If the standard deviation is zero\n",
    "    \"\"\"\n",
    "    prediction_cols = [col for col in merged_df.columns if col.startswith('prediction_')]\n",
    "    target_cols = [col for col in merged_df.columns if col.startswith('target_')]\n",
    "\n",
    "    def _compute_rank_correlation(row):\n",
    "        non_null_targets = [col for col in target_cols if not pd.isnull(row[col])]\n",
    "        matching_predictions = [col for col in prediction_cols if col.replace('prediction', 'target') in non_null_targets]\n",
    "        if not non_null_targets:\n",
    "            raise ValueError('No non-null target values found')\n",
    "        if row[non_null_targets].std(ddof=0) == 0 or row[matching_predictions].std(ddof=0) == 0:\n",
    "            raise ZeroDivisionError('Denominator is zero, unable to compute rank correlation.')\n",
    "        return np.corrcoef(row[matching_predictions].rank(method='average'), row[non_null_targets].rank(method='average'))[0, 1]\n",
    "\n",
    "    daily_rank_corrs = merged_df.apply(_compute_rank_correlation, axis=1)\n",
    "    std_dev = daily_rank_corrs.std(ddof=0)\n",
    "    if std_dev == 0:\n",
    "        raise ZeroDivisionError('Denominator is zero, unable to compute Sharpe ratio.')\n",
    "    sharpe_ratio = daily_rank_corrs.mean() / std_dev\n",
    "    return float(sharpe_ratio)\n",
    "\n",
    "\n",
    "def score(solution: pd.DataFrame, submission: pd.DataFrame, row_id_column_name: str) -> float:\n",
    "    \"\"\"\n",
    "    Calculates the rank correlation between predictions and target values,\n",
    "    and returns its Sharpe ratio (mean / standard deviation).\n",
    "    \"\"\"\n",
    "    del solution[row_id_column_name]\n",
    "    del submission[row_id_column_name]\n",
    "    assert all(solution.columns == submission.columns)\n",
    "\n",
    "    submission = submission.rename(columns={col: col.replace('target_', 'prediction_') for col in submission.columns})\n",
    "\n",
    "    # Not all securities trade on all dates, but solution files cannot contain nulls.\n",
    "    # The filler value allows us to handle trading halts, holidays, & delistings.\n",
    "    solution = solution.replace(SOLUTION_NULL_FILLER, None)\n",
    "    return rank_correlation_sharpe_ratio(pd.concat([solution, submission], axis='columns'))\n"
   ]
  }
 ],
 "metadata": {
  "kaggle": {
   "accelerator": "none",
   "dataSources": [],
   "isGpuEnabled": false,
   "isInternetEnabled": false,
   "language": "python",
   "sourceType": "notebook"
  },
  "kernelspec": {
   "display_name": "Python 3",
   "language": "python",
   "name": "python3"
  },
  "language_info": {
   "codemirror_mode": {
    "name": "ipython",
    "version": 3
   },
   "file_extension": ".py",
   "mimetype": "text/x-python",
   "name": "python",
   "nbconvert_exporter": "python",
   "pygments_lexer": "ipython3",
   "version": "3.11.13"
  },
  "papermill": {
   "default_parameters": {},
   "duration": 7.257304,
   "end_time": "2025-07-16T17:02:52.714950",
   "environment_variables": {},
   "exception": null,
   "input_path": "__notebook__.ipynb",
   "output_path": "__notebook__.ipynb",
   "parameters": {},
   "start_time": "2025-07-16T17:02:45.457646",
   "version": "2.6.0"
  }
 },
 "nbformat": 4,
 "nbformat_minor": 5
}
