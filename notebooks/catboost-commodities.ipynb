{
 "cells": [
  {
   "cell_type": "code",
   "execution_count": 1,
   "id": "1947d0f9",
   "metadata": {
    "_cell_guid": "b1076dfc-b9ad-4769-8c92-a6c4dae69d19",
    "_uuid": "8f2839f25d086af736a60e9eeb907d3b93b6e0e5",
    "execution": {
     "iopub.execute_input": "2025-08-29T13:55:37.534205Z",
     "iopub.status.busy": "2025-08-29T13:55:37.533556Z",
     "iopub.status.idle": "2025-08-29T13:55:39.297426Z",
     "shell.execute_reply": "2025-08-29T13:55:39.296562Z"
    },
    "papermill": {
     "duration": 1.77045,
     "end_time": "2025-08-29T13:55:39.298796",
     "exception": false,
     "start_time": "2025-08-29T13:55:37.528346",
     "status": "completed"
    },
    "tags": []
   },
   "outputs": [
    {
     "name": "stdout",
     "output_type": "stream",
     "text": [
      "Cloning into 'Commodities-Trading'...\r\n",
      "remote: Enumerating objects: 73, done.\u001b[K\r\n",
      "remote: Counting objects: 100% (73/73), done.\u001b[K\r\n",
      "remote: Compressing objects: 100% (57/57), done.\u001b[K\r\n",
      "remote: Total 73 (delta 16), reused 69 (delta 12), pack-reused 0 (from 0)\u001b[K\r\n",
      "Receiving objects: 100% (73/73), 9.87 MiB | 20.10 MiB/s, done.\r\n",
      "Resolving deltas: 100% (16/16), done.\r\n",
      "/kaggle/working/Commodities-Trading\n"
     ]
    }
   ],
   "source": [
    "!git clone https://github.com/aapetukhov/Commodities-Trading.git\n",
    "%cd Commodities-Trading"
   ]
  },
  {
   "cell_type": "code",
   "execution_count": 2,
   "id": "bbcf2b43",
   "metadata": {
    "execution": {
     "iopub.execute_input": "2025-08-29T13:55:39.307582Z",
     "iopub.status.busy": "2025-08-29T13:55:39.307310Z",
     "iopub.status.idle": "2025-08-29T13:55:39.947138Z",
     "shell.execute_reply": "2025-08-29T13:55:39.946331Z"
    },
    "papermill": {
     "duration": 0.64572,
     "end_time": "2025-08-29T13:55:39.948555",
     "exception": false,
     "start_time": "2025-08-29T13:55:39.302835",
     "status": "completed"
    },
    "tags": []
   },
   "outputs": [
    {
     "name": "stdout",
     "output_type": "stream",
     "text": [
      "Already up to date.\r\n"
     ]
    }
   ],
   "source": [
    "!git pull"
   ]
  },
  {
   "cell_type": "code",
   "execution_count": null,
   "id": "789c866a",
   "metadata": {
    "execution": {
     "iopub.execute_input": "2025-08-29T13:55:39.957178Z",
     "iopub.status.busy": "2025-08-29T13:55:39.956925Z",
     "iopub.status.idle": "2025-08-29T13:55:43.237683Z",
     "shell.execute_reply": "2025-08-29T13:55:43.237079Z"
    },
    "papermill": {
     "duration": 3.28667,
     "end_time": "2025-08-29T13:55:43.239087",
     "exception": false,
     "start_time": "2025-08-29T13:55:39.952417",
     "status": "completed"
    },
    "tags": []
   },
   "outputs": [],
   "source": [
    "import os\n",
    "import gc\n",
    "import numpy as np\n",
    "import pandas as pd\n",
    "from pathlib import Path\n",
    "from typing import Tuple\n",
    "\n",
    "from catboost import CatBoostRanker, Pool"
   ]
  },
  {
   "cell_type": "code",
   "execution_count": null,
   "id": "4a47cdb7",
   "metadata": {
    "execution": {
     "iopub.execute_input": "2025-08-29T13:55:43.248028Z",
     "iopub.status.busy": "2025-08-29T13:55:43.247319Z",
     "iopub.status.idle": "2025-08-29T13:55:43.251263Z",
     "shell.execute_reply": "2025-08-29T13:55:43.250760Z"
    },
    "papermill": {
     "duration": 0.009267,
     "end_time": "2025-08-29T13:55:43.252298",
     "exception": false,
     "start_time": "2025-08-29T13:55:43.243031",
     "status": "completed"
    },
    "tags": []
   },
   "outputs": [],
   "source": [
    "RANDOM_STATE = 42\n",
    "np.random.seed(RANDOM_STATE)\n",
    "\n",
    "DATA_DIR = Path(\"data\")\n",
    "TRAIN_PATH = DATA_DIR / \"train.csv\"\n",
    "TRAIN_LABELS_PATH = DATA_DIR / \"train_labels.csv\"\n",
    "TARGET_PAIRS_PATH = DATA_DIR / \"target_pairs.csv\"\n",
    "TEST_PATH = DATA_DIR / \"test.csv\""
   ]
  },
  {
   "cell_type": "markdown",
   "id": "b4d90b68",
   "metadata": {
    "papermill": {
     "duration": 0.0034,
     "end_time": "2025-08-29T13:55:43.259251",
     "exception": false,
     "start_time": "2025-08-29T13:55:43.255851",
     "status": "completed"
    },
    "tags": []
   },
   "source": [
    "## Метрики из соревнования"
   ]
  },
  {
   "cell_type": "code",
   "execution_count": null,
   "id": "33add809",
   "metadata": {
    "execution": {
     "iopub.execute_input": "2025-08-29T13:55:43.267365Z",
     "iopub.status.busy": "2025-08-29T13:55:43.266926Z",
     "iopub.status.idle": "2025-08-29T13:55:43.274846Z",
     "shell.execute_reply": "2025-08-29T13:55:43.274256Z"
    },
    "papermill": {
     "duration": 0.013016,
     "end_time": "2025-08-29T13:55:43.275808",
     "exception": false,
     "start_time": "2025-08-29T13:55:43.262792",
     "status": "completed"
    },
    "tags": []
   },
   "outputs": [],
   "source": [
    "SOLUTION_NULL_FILLER = -999999\n",
    "\n",
    "def rank_correlation_sharpe_ratio(merged_df: pd.DataFrame) -> float:\n",
    "    prediction_cols = [col for col in merged_df.columns if col.startswith('prediction_')]\n",
    "    target_cols = [col for col in merged_df.columns if col.startswith('target_')]\n",
    "\n",
    "    def _compute_rank_correlation(row):\n",
    "        non_null_targets = [col for col in target_cols if not pd.isnull(row[col])]\n",
    "        matching_predictions = [col for col in prediction_cols if col.replace('prediction', 'target') in non_null_targets]\n",
    "        if not non_null_targets:\n",
    "            raise ValueError('No non-null target values found')\n",
    "        if row[non_null_targets].std(ddof=0) == 0 or row[matching_predictions].std(ddof=0) == 0:\n",
    "            # если в конкретный день нулевая дисперсия (редкость), пропустим\n",
    "            return np.nan\n",
    "        return np.corrcoef(\n",
    "            row[matching_predictions].rank(method='average'),\n",
    "            row[non_null_targets].rank(method='average')\n",
    "        )[0, 1]\n",
    "\n",
    "    daily_rank_corrs = merged_df.apply(_compute_rank_correlation, axis=1).dropna()\n",
    "    std_dev = daily_rank_corrs.std(ddof=0)\n",
    "    if std_dev == 0 or np.isnan(std_dev):\n",
    "        return 0.0\n",
    "    sharpe_ratio = daily_rank_corrs.mean() / std_dev\n",
    "    return float(sharpe_ratio)\n",
    "\n",
    "def score_like_competition(solution: pd.DataFrame, submission: pd.DataFrame, row_id_column_name: str) -> float:\n",
    "    solution = solution.copy()\n",
    "    submission = submission.copy()\n",
    "    del solution[row_id_column_name]\n",
    "    del submission[row_id_column_name]\n",
    "    assert all(solution.columns == submission.columns)\n",
    "    submission = submission.rename(columns={col: col.replace('target_', 'prediction_') for col in submission.columns})\n",
    "    solution = solution.replace(SOLUTION_NULL_FILLER, None)\n",
    "    return rank_correlation_sharpe_ratio(pd.concat([solution, submission], axis='columns'))"
   ]
  },
  {
   "cell_type": "code",
   "execution_count": null,
   "id": "de2ec99a",
   "metadata": {
    "execution": {
     "iopub.execute_input": "2025-08-29T13:55:43.291298Z",
     "iopub.status.busy": "2025-08-29T13:55:43.290898Z",
     "iopub.status.idle": "2025-08-29T13:55:43.662870Z",
     "shell.execute_reply": "2025-08-29T13:55:43.661932Z"
    },
    "papermill": {
     "duration": 0.377907,
     "end_time": "2025-08-29T13:55:43.664098",
     "exception": false,
     "start_time": "2025-08-29T13:55:43.286191",
     "status": "completed"
    },
    "tags": []
   },
   "outputs": [
    {
     "name": "stdout",
     "output_type": "stream",
     "text": [
      "Loading CSVs ...\n",
      "(1827, 558) (1827, 425) (424, 3)\n",
      "Example features: ['date_id', 'LME_AH_Close', 'LME_CA_Close', 'LME_PB_Close', 'LME_ZS_Close', 'JPX_Gold_Mini_Futures_Open', 'JPX_Gold_Rolling-Spot_Futures_Open', 'JPX_Gold_Standard_Futures_Open', 'JPX_Platinum_Mini_Futures_Open', 'JPX_Platinum_Standard_Futures_Open']\n",
      "Example labels: ['date_id', 'target_0', 'target_1', 'target_2', 'target_3', 'target_4', 'target_5', 'target_6', 'target_7', 'target_8']\n",
      "     target  lag                                            pair\n",
      "0  target_0    1                           US_Stock_VT_adj_close\n",
      "1  target_1    1            LME_PB_Close - US_Stock_VT_adj_close\n",
      "2  target_2    1                     LME_CA_Close - LME_ZS_Close\n",
      "3  target_3    1                     LME_AH_Close - LME_ZS_Close\n",
      "4  target_4    1  LME_AH_Close - JPX_Gold_Standard_Futures_Close\n"
     ]
    }
   ],
   "source": [
    "train = pd.read_csv(TRAIN_PATH)[:-90]\n",
    "train_labels = pd.read_csv(TRAIN_LABELS_PATH)[:-90]\n",
    "target_pairs = pd.read_csv(TARGET_PAIRS_PATH)\n",
    "\n",
    "print(train.shape, train_labels.shape, target_pairs.shape)\n",
    "print(\"Example features:\", train.columns[:10].tolist())\n",
    "print(\"Example labels:\", train_labels.columns[:10].tolist())\n",
    "print(target_pairs.head())"
   ]
  },
  {
   "cell_type": "code",
   "execution_count": null,
   "id": "0d544888",
   "metadata": {
    "execution": {
     "iopub.execute_input": "2025-08-29T13:55:43.672825Z",
     "iopub.status.busy": "2025-08-29T13:55:43.672231Z",
     "iopub.status.idle": "2025-08-29T13:55:44.104105Z",
     "shell.execute_reply": "2025-08-29T13:55:44.103298Z"
    },
    "papermill": {
     "duration": 0.437557,
     "end_time": "2025-08-29T13:55:44.105570",
     "exception": false,
     "start_time": "2025-08-29T13:55:43.668013",
     "status": "completed"
    },
    "tags": []
   },
   "outputs": [],
   "source": [
    "label_cols = [c for c in train_labels.columns if c.startswith(\"target_\")]\n",
    "labels_long = (\n",
    "    train_labels\n",
    "    .melt(id_vars=\"date_id\", value_vars=label_cols, var_name=\"target_col\", value_name=\"y\")\n",
    "    .dropna(subset=[\"y\"])\n",
    "    .reset_index(drop=True)\n",
    ")\n",
    "labels_long[\"target_id\"] = labels_long[\"target_col\"].str.replace(\"target_\", \"\", regex=False).astype(int)"
   ]
  },
  {
   "cell_type": "code",
   "execution_count": null,
   "id": "c1793411",
   "metadata": {
    "execution": {
     "iopub.execute_input": "2025-08-29T13:55:44.117271Z",
     "iopub.status.busy": "2025-08-29T13:55:44.117042Z",
     "iopub.status.idle": "2025-08-29T13:55:44.291931Z",
     "shell.execute_reply": "2025-08-29T13:55:44.291309Z"
    },
    "papermill": {
     "duration": 0.181148,
     "end_time": "2025-08-29T13:55:44.293306",
     "exception": false,
     "start_time": "2025-08-29T13:55:44.112158",
     "status": "completed"
    },
    "tags": []
   },
   "outputs": [],
   "source": [
    "meta = target_pairs.rename(columns={\"target\": \"target_col\"})\n",
    "labels_long = labels_long.merge(meta, on=\"target_col\", how=\"left\")\n",
    "\n",
    "labels_long[\"pair\"] = labels_long[\"pair\"].astype(\"category\")\n",
    "labels_long[\"target_id_str\"] = labels_long[\"target_id\"].astype(\"category\")"
   ]
  },
  {
   "cell_type": "code",
   "execution_count": null,
   "id": "a2d69812",
   "metadata": {
    "execution": {
     "iopub.execute_input": "2025-08-29T13:55:44.301722Z",
     "iopub.status.busy": "2025-08-29T13:55:44.301512Z",
     "iopub.status.idle": "2025-08-29T13:55:46.304549Z",
     "shell.execute_reply": "2025-08-29T13:55:46.303873Z"
    },
    "papermill": {
     "duration": 2.008737,
     "end_time": "2025-08-29T13:55:46.305926",
     "exception": false,
     "start_time": "2025-08-29T13:55:44.297189",
     "status": "completed"
    },
    "tags": []
   },
   "outputs": [],
   "source": [
    "train_feats = train.copy()\n",
    "Xy = labels_long.merge(train_feats, on=\"date_id\", how=\"left\")"
   ]
  },
  {
   "cell_type": "markdown",
   "id": "33446b26",
   "metadata": {},
   "source": [
    "Для катбуста важно отсортировать по id группы!!!"
   ]
  },
  {
   "cell_type": "code",
   "execution_count": null,
   "id": "a2a2d035",
   "metadata": {
    "execution": {
     "iopub.execute_input": "2025-08-29T13:55:46.314517Z",
     "iopub.status.busy": "2025-08-29T13:55:46.314275Z",
     "iopub.status.idle": "2025-08-29T13:55:52.980906Z",
     "shell.execute_reply": "2025-08-29T13:55:52.979938Z"
    },
    "papermill": {
     "duration": 6.672186,
     "end_time": "2025-08-29T13:55:52.982081",
     "exception": false,
     "start_time": "2025-08-29T13:55:46.309895",
     "status": "completed"
    },
    "tags": []
   },
   "outputs": [
    {
     "name": "stdout",
     "output_type": "stream",
     "text": [
      "Train rows: 554433 Val rows: 138528\n",
      "Train days: 1461 Val days: 366\n"
     ]
    }
   ],
   "source": [
    "unique_dates = np.sort(Xy[\"date_id\"].unique())\n",
    "# 80 train  20 val\n",
    "split_idx = int(0.8 * len(unique_dates))\n",
    "train_dates = set(unique_dates[:split_idx])\n",
    "val_dates = set(unique_dates[split_idx:])\n",
    "\n",
    "Xy[\"is_val\"] = Xy[\"date_id\"].isin(val_dates)\n",
    "\n",
    "\n",
    "# ВАЖНО: СОРТИРУЕМ ПО \"date_id\" !!!!\n",
    "train_df = Xy[~Xy[\"is_val\"]].copy().sort_values(by=\"date_id\")\n",
    "val_df = Xy[Xy[\"is_val\"]].copy().sort_values(by=\"date_id\")\n",
    "\n",
    "print(\"Train rows:\", len(train_df), \"Val rows:\", len(val_df))\n",
    "print(\"Train days:\", train_df['date_id'].nunique(), \"Val days:\", val_df['date_id'].nunique())"
   ]
  },
  {
   "cell_type": "code",
   "execution_count": null,
   "id": "b395d2f8",
   "metadata": {
    "execution": {
     "iopub.execute_input": "2025-08-29T13:55:52.991312Z",
     "iopub.status.busy": "2025-08-29T13:55:52.990624Z",
     "iopub.status.idle": "2025-08-29T13:55:53.885052Z",
     "shell.execute_reply": "2025-08-29T13:55:53.884218Z"
    },
    "papermill": {
     "duration": 0.900555,
     "end_time": "2025-08-29T13:55:53.886725",
     "exception": false,
     "start_time": "2025-08-29T13:55:52.986170",
     "status": "completed"
    },
    "tags": []
   },
   "outputs": [],
   "source": [
    "y_tr = train_df[\"y\"].values\n",
    "y_va = val_df[\"y\"].values\n",
    "\n",
    "group_tr = train_df[\"date_id\"].values\n",
    "group_va = val_df[\"date_id\"].values\n",
    "\n",
    "feature_cols_market = [c for c in train.columns if c != \"date_id\"]\n",
    "feature_cols = [\"lag\", \"pair\", \"target_id_str\"] + feature_cols_market\n",
    "\n",
    "X_tr = train_df[feature_cols]\n",
    "X_va = val_df[feature_cols]\n",
    "\n",
    "cat_features = [\"pair\", \"target_id_str\"]\n",
    "cat_feature_indices = [feature_cols.index(c) for c in cat_features]"
   ]
  },
  {
   "cell_type": "markdown",
   "id": "ff457f51",
   "metadata": {
    "papermill": {
     "duration": 0.003607,
     "end_time": "2025-08-29T13:55:53.894499",
     "exception": false,
     "start_time": "2025-08-29T13:55:53.890892",
     "status": "completed"
    },
    "tags": []
   },
   "source": [
    "## Делаем пулы"
   ]
  },
  {
   "cell_type": "code",
   "execution_count": null,
   "id": "5699d03c",
   "metadata": {
    "execution": {
     "iopub.execute_input": "2025-08-29T13:55:53.902499Z",
     "iopub.status.busy": "2025-08-29T13:55:53.902240Z",
     "iopub.status.idle": "2025-08-29T13:55:54.102324Z",
     "shell.execute_reply": "2025-08-29T13:55:54.101492Z"
    },
    "papermill": {
     "duration": 0.20566,
     "end_time": "2025-08-29T13:55:54.103736",
     "exception": false,
     "start_time": "2025-08-29T13:55:53.898076",
     "status": "completed"
    },
    "tags": []
   },
   "outputs": [],
   "source": [
    "train_pool = Pool(\n",
    "    data=X_tr,\n",
    "    label=y_tr,\n",
    "    group_id=group_tr,\n",
    "    cat_features=cat_feature_indices\n",
    ")\n",
    "\n",
    "val_pool = Pool(\n",
    "    data=X_va,\n",
    "    label=y_va,\n",
    "    group_id=group_va,\n",
    "    cat_features=cat_feature_indices\n",
    ")"
   ]
  },
  {
   "cell_type": "markdown",
   "id": "f220bcbf",
   "metadata": {
    "papermill": {
     "duration": 0.003618,
     "end_time": "2025-08-29T13:55:54.111323",
     "exception": false,
     "start_time": "2025-08-29T13:55:54.107705",
     "status": "completed"
    },
    "tags": []
   },
   "source": [
    "## Учим ранкер"
   ]
  },
  {
   "cell_type": "code",
   "execution_count": null,
   "id": "77d9f0c8",
   "metadata": {
    "execution": {
     "iopub.execute_input": "2025-08-29T13:55:54.119485Z",
     "iopub.status.busy": "2025-08-29T13:55:54.119226Z",
     "iopub.status.idle": "2025-08-29T13:55:54.124535Z",
     "shell.execute_reply": "2025-08-29T13:55:54.123936Z"
    },
    "papermill": {
     "duration": 0.010689,
     "end_time": "2025-08-29T13:55:54.125660",
     "exception": false,
     "start_time": "2025-08-29T13:55:54.114971",
     "status": "completed"
    },
    "tags": []
   },
   "outputs": [],
   "source": [
    "params = dict(\n",
    "    loss_function=\"PairLogit\",\n",
    "    iterations=800,\n",
    "    learning_rate=0.05,\n",
    "    depth=8,\n",
    "    l2_leaf_reg=3.0,\n",
    "    random_seed=RANDOM_STATE,\n",
    "    # eval_metric=\"NDCG\",\n",
    "    early_stopping_rounds=200,\n",
    "    verbose=10,\n",
    "    task_type=\"GPU\", # ON KAGGLE\n",
    ")\n",
    "\n",
    "model = CatBoostRanker(**params)"
   ]
  },
  {
   "cell_type": "code",
   "execution_count": 14,
   "id": "828aab30",
   "metadata": {
    "execution": {
     "iopub.execute_input": "2025-08-29T13:55:54.133549Z",
     "iopub.status.busy": "2025-08-29T13:55:54.133305Z",
     "iopub.status.idle": "2025-08-29T14:04:56.595903Z",
     "shell.execute_reply": "2025-08-29T14:04:56.595114Z"
    },
    "papermill": {
     "duration": 542.472365,
     "end_time": "2025-08-29T14:04:56.601585",
     "exception": false,
     "start_time": "2025-08-29T13:55:54.129220",
     "status": "completed"
    },
    "tags": []
   },
   "outputs": [
    {
     "name": "stdout",
     "output_type": "stream",
     "text": [
      "Groupwise loss function. OneHotMaxSize set to 10\n",
      "0:\tlearn: 0.6927017\ttest: 0.6933075\tbest: 0.6933075 (0)\ttotal: 5.73s\tremaining: 1h 16m 20s\n",
      "10:\tlearn: 0.6930866\ttest: 0.6931595\tbest: 0.6931595 (10)\ttotal: 28.6s\tremaining: 34m 11s\n",
      "20:\tlearn: 0.6928861\ttest: 0.6931739\tbest: 0.6931279 (14)\ttotal: 52s\tremaining: 32m 8s\n",
      "30:\tlearn: 0.6925822\ttest: 0.6931716\tbest: 0.6931279 (14)\ttotal: 1m 14s\tremaining: 30m 58s\n",
      "40:\tlearn: 0.6923206\ttest: 0.6932206\tbest: 0.6931279 (14)\ttotal: 1m 38s\tremaining: 30m 18s\n",
      "50:\tlearn: 0.6921264\ttest: 0.6932481\tbest: 0.6931279 (14)\ttotal: 2m 1s\tremaining: 29m 40s\n",
      "60:\tlearn: 0.6919653\ttest: 0.6932959\tbest: 0.6931279 (14)\ttotal: 2m 24s\tremaining: 29m 10s\n",
      "70:\tlearn: 0.6917660\ttest: 0.6932986\tbest: 0.6931279 (14)\ttotal: 2m 47s\tremaining: 28m 40s\n",
      "80:\tlearn: 0.6915816\ttest: 0.6933097\tbest: 0.6931279 (14)\ttotal: 3m 11s\tremaining: 28m 15s\n",
      "90:\tlearn: 0.6914179\ttest: 0.6933164\tbest: 0.6931279 (14)\ttotal: 3m 34s\tremaining: 27m 49s\n",
      "100:\tlearn: 0.6912592\ttest: 0.6933231\tbest: 0.6931279 (14)\ttotal: 3m 57s\tremaining: 27m 23s\n",
      "110:\tlearn: 0.6911019\ttest: 0.6932620\tbest: 0.6931279 (14)\ttotal: 4m 20s\tremaining: 26m 57s\n",
      "120:\tlearn: 0.6909566\ttest: 0.6932370\tbest: 0.6931279 (14)\ttotal: 4m 44s\tremaining: 26m 34s\n",
      "130:\tlearn: 0.6908619\ttest: 0.6932692\tbest: 0.6931279 (14)\ttotal: 5m 7s\tremaining: 26m 8s\n",
      "140:\tlearn: 0.6907332\ttest: 0.6932912\tbest: 0.6931279 (14)\ttotal: 5m 30s\tremaining: 25m 44s\n",
      "150:\tlearn: 0.6905652\ttest: 0.6932990\tbest: 0.6931279 (14)\ttotal: 5m 53s\tremaining: 25m 19s\n",
      "160:\tlearn: 0.6904269\ttest: 0.6933169\tbest: 0.6931279 (14)\ttotal: 6m 16s\tremaining: 24m 53s\n",
      "170:\tlearn: 0.6902966\ttest: 0.6933267\tbest: 0.6931279 (14)\ttotal: 6m 39s\tremaining: 24m 30s\n",
      "180:\tlearn: 0.6901497\ttest: 0.6933184\tbest: 0.6931279 (14)\ttotal: 7m 2s\tremaining: 24m 5s\n",
      "190:\tlearn: 0.6900439\ttest: 0.6933182\tbest: 0.6931279 (14)\ttotal: 7m 26s\tremaining: 23m 43s\n",
      "200:\tlearn: 0.6899351\ttest: 0.6933245\tbest: 0.6931279 (14)\ttotal: 7m 49s\tremaining: 23m 18s\n",
      "210:\tlearn: 0.6897887\ttest: 0.6933463\tbest: 0.6931279 (14)\ttotal: 8m 12s\tremaining: 22m 55s\n",
      "bestTest = 0.6931278833\n",
      "bestIteration = 14\n",
      "Shrink model to first 15 iterations.\n"
     ]
    },
    {
     "data": {
      "text/plain": [
       "<catboost.core.CatBoostRanker at 0x7d171a933810>"
      ]
     },
     "execution_count": 14,
     "metadata": {},
     "output_type": "execute_result"
    }
   ],
   "source": [
    "model.fit(train_pool, eval_set=val_pool, use_best_model=True)"
   ]
  },
  {
   "cell_type": "markdown",
   "id": "be102b55",
   "metadata": {
    "papermill": {
     "duration": 0.004415,
     "end_time": "2025-08-29T14:04:56.610685",
     "exception": false,
     "start_time": "2025-08-29T14:04:56.606270",
     "status": "completed"
    },
    "tags": []
   },
   "source": [
    "## Валидация"
   ]
  },
  {
   "cell_type": "code",
   "execution_count": null,
   "id": "66d48b4e",
   "metadata": {
    "execution": {
     "iopub.execute_input": "2025-08-29T14:04:56.620725Z",
     "iopub.status.busy": "2025-08-29T14:04:56.620515Z",
     "iopub.status.idle": "2025-08-29T14:04:58.502605Z",
     "shell.execute_reply": "2025-08-29T14:04:58.501746Z"
    },
    "papermill": {
     "duration": 1.88863,
     "end_time": "2025-08-29T14:04:58.503890",
     "exception": false,
     "start_time": "2025-08-29T14:04:56.615260",
     "status": "completed"
    },
    "tags": []
   },
   "outputs": [
    {
     "name": "stdout",
     "output_type": "stream",
     "text": [
      "Validation competition-like score (Sharpe of daily rank corr): 0.08092\n"
     ]
    }
   ],
   "source": [
    "val_df = val_df.copy()\n",
    "val_df[\"pred\"] = model.predict(val_pool)\n",
    "\n",
    "pred_wide = (\n",
    "    val_df\n",
    "    .pivot(index=\"date_id\", columns=\"target_col\", values=\"pred\")\n",
    "    .reset_index()\n",
    "    .rename_axis(None, axis=1)\n",
    ")\n",
    "\n",
    "sol_wide = (\n",
    "    val_df\n",
    "    .pivot(index=\"date_id\", columns=\"target_col\", values=\"y\")\n",
    "    .reset_index()\n",
    "    .rename_axis(None, axis=1)\n",
    ")\n",
    "\n",
    "pred_wide = pred_wide.rename(columns=lambda c: c if c==\"date_id\" else c)\n",
    "sol_wide = sol_wide.rename(columns=lambda c: c if c==\"date_id\" else c)\n",
    "\n",
    "val_score = score_like_competition(sol_wide, pred_wide, row_id_column_name=\"date_id\")\n",
    "print(f\"Sharpe: {val_score:.5f}\")"
   ]
  },
  {
   "cell_type": "code",
   "execution_count": null,
   "id": "f2df1b03",
   "metadata": {
    "execution": {
     "iopub.execute_input": "2025-08-29T14:04:58.514315Z",
     "iopub.status.busy": "2025-08-29T14:04:58.514118Z",
     "iopub.status.idle": "2025-08-29T14:06:41.209707Z",
     "shell.execute_reply": "2025-08-29T14:06:41.206895Z"
    },
    "papermill": {
     "duration": 102.706,
     "end_time": "2025-08-29T14:06:41.214920",
     "exception": false,
     "start_time": "2025-08-29T14:04:58.508920",
     "status": "completed"
    },
    "tags": []
   },
   "outputs": [
    {
     "name": "stdout",
     "output_type": "stream",
     "text": [
      "Top 25 features:\n",
      "                                     feature  importance\n",
      "1                                       pair    0.000042\n",
      "2                              target_id_str    0.000026\n",
      "0                                        lag    0.000020\n",
      "530                                FX_GBPAUD    0.000010\n",
      "5                               LME_PB_Close    0.000009\n",
      "554                                FX_ZAREUR    0.000008\n",
      "451                  US_Stock_EOG_adj_volume    0.000005\n",
      "17        JPX_Platinum_Standard_Futures_High    0.000005\n",
      "105                    US_Stock_RIO_adj_open    0.000005\n",
      "512                  US_Stock_VWO_adj_volume    0.000005\n",
      "191                    US_Stock_MPC_adj_high    0.000005\n",
      "179                    US_Stock_HES_adj_high    0.000004\n",
      "376                   US_Stock_KGC_adj_close    0.000004\n",
      "166                    US_Stock_EOG_adj_high    0.000003\n",
      "378                   US_Stock_LQD_adj_close    0.000003\n",
      "507                  US_Stock_VGK_adj_volume    0.000003\n",
      "360                   US_Stock_EWZ_adj_close    0.000003\n",
      "508                 US_Stock_VGLT_adj_volume    0.000003\n",
      "43   JPX_Gold_Standard_Futures_open_interest    0.000003\n",
      "162                    US_Stock_EEM_adj_high    0.000002\n",
      "433                  US_Stock_BCS_adj_volume    0.000002\n",
      "490                  US_Stock_SHY_adj_volume    0.000002\n",
      "101                    US_Stock_OIH_adj_open    0.000002\n",
      "437                   US_Stock_BP_adj_volume    0.000002\n",
      "419                   US_Stock_VYM_adj_close    0.000002\n"
     ]
    }
   ],
   "source": [
    "fi = pd.DataFrame({\n",
    "    \"feature\": feature_cols,\n",
    "    \"importance\": model.get_feature_importance(train_pool, type=\"FeatureImportance\")\n",
    "}).sort_values(\"importance\", ascending=False)\n",
    "\n",
    "print(\"Top 25 features:\")\n",
    "print(fi.head(25))"
   ]
  },
  {
   "cell_type": "code",
   "execution_count": null,
   "id": "325eb9b5",
   "metadata": {
    "execution": {
     "iopub.execute_input": "2025-08-29T14:06:41.231359Z",
     "iopub.status.busy": "2025-08-29T14:06:41.230770Z",
     "iopub.status.idle": "2025-08-29T14:06:41.252058Z",
     "shell.execute_reply": "2025-08-29T14:06:41.251229Z"
    },
    "papermill": {
     "duration": 0.030596,
     "end_time": "2025-08-29T14:06:41.253221",
     "exception": false,
     "start_time": "2025-08-29T14:06:41.222625",
     "status": "completed"
    },
    "tags": []
   },
   "outputs": [
    {
     "name": "stdout",
     "output_type": "stream",
     "text": [
      "Saved model to catboost_ranker_pairlogit.cbm\n"
     ]
    }
   ],
   "source": [
    "MODEL_PATH = Path(\"catboost_ranker_pairlogit.cbm\")\n",
    "model.save_model(MODEL_PATH)\n",
    "print(\"Saved model to\", MODEL_PATH)"
   ]
  },
  {
   "cell_type": "code",
   "execution_count": null,
   "id": "94542da7",
   "metadata": {
    "execution": {
     "iopub.execute_input": "2025-08-29T14:06:41.263955Z",
     "iopub.status.busy": "2025-08-29T14:06:41.263725Z",
     "iopub.status.idle": "2025-08-29T14:06:41.352081Z",
     "shell.execute_reply": "2025-08-29T14:06:41.351497Z"
    },
    "papermill": {
     "duration": 0.094777,
     "end_time": "2025-08-29T14:06:41.353129",
     "exception": false,
     "start_time": "2025-08-29T14:06:41.258352",
     "status": "completed"
    },
    "tags": []
   },
   "outputs": [
    {
     "data": {
      "text/plain": [
       "0"
      ]
     },
     "execution_count": 18,
     "metadata": {},
     "output_type": "execute_result"
    }
   ],
   "source": [
    "del train_pool, val_pool\n",
    "gc.collect()"
   ]
  }
 ],
 "metadata": {
  "kaggle": {
   "accelerator": "gpu",
   "dataSources": [],
   "dockerImageVersionId": 31090,
   "isGpuEnabled": true,
   "isInternetEnabled": true,
   "language": "python",
   "sourceType": "notebook"
  },
  "kernelspec": {
   "display_name": "Python 3",
   "language": "python",
   "name": "python3"
  },
  "language_info": {
   "codemirror_mode": {
    "name": "ipython",
    "version": 3
   },
   "file_extension": ".py",
   "mimetype": "text/x-python",
   "name": "python",
   "nbconvert_exporter": "python",
   "pygments_lexer": "ipython3",
   "version": "3.11.13"
  },
  "papermill": {
   "default_parameters": {},
   "duration": 669.067191,
   "end_time": "2025-08-29T14:06:42.478677",
   "environment_variables": {},
   "exception": null,
   "input_path": "__notebook__.ipynb",
   "output_path": "__notebook__.ipynb",
   "parameters": {},
   "start_time": "2025-08-29T13:55:33.411486",
   "version": "2.6.0"
  }
 },
 "nbformat": 4,
 "nbformat_minor": 5
}
